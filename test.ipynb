{
 "cells": [
  {
   "cell_type": "code",
   "execution_count": 1,
   "metadata": {},
   "outputs": [
    {
     "name": "stdout",
     "output_type": "stream",
     "text": [
      "Sentence 1: এটি একটি প্রথম প্যারাগ্রাফ\n",
      "Sentence 2: এটি একটি দ্বিতীয় প্যারাগ্রাফ\n",
      "Sentence 3: এটি একটি তৃতীয় প্যারাগ্রাফ\n"
     ]
    }
   ],
   "source": [
    "import re\n",
    "\n",
    "def split_bengali_sentences(text):\n",
    "    # Define the regex pattern\n",
    "    sentence_pattern = r'(?:[।?!]|[\\n\\r])+[\\s\\u200B]*|[\\n\\r]+'\n",
    "\n",
    "    # Apply the regex pattern to split sentences\n",
    "    sentences = re.split(sentence_pattern, text)\n",
    "\n",
    "    # Remove any empty strings from the list\n",
    "    sentences = [sentence.strip() for sentence in sentences if sentence.strip()]\n",
    "\n",
    "    return sentences\n",
    "\n",
    "# Example usage:\n",
    "paragraph = \"এটি একটি প্রথম প্যারাগ্রাফ। এটি একটি দ্বিতীয় প্যারাগ্রাফ। এটি একটি তৃতীয় প্যারাগ্রাফ।\"\n",
    "result = split_bengali_sentences(paragraph)\n",
    "\n",
    "# Print the result\n",
    "for i, sentence in enumerate(result, start=1):\n",
    "    print(f\"Sentence {i}: {sentence}\")"
   ]
  },
  {
   "cell_type": "code",
   "execution_count": null,
   "metadata": {},
   "outputs": [],
   "source": []
  }
 ],
 "metadata": {
  "kernelspec": {
   "display_name": "django_env",
   "language": "python",
   "name": "python3"
  },
  "language_info": {
   "codemirror_mode": {
    "name": "ipython",
    "version": 3
   },
   "file_extension": ".py",
   "mimetype": "text/x-python",
   "name": "python",
   "nbconvert_exporter": "python",
   "pygments_lexer": "ipython3",
   "version": "3.10.0"
  }
 },
 "nbformat": 4,
 "nbformat_minor": 2
}
